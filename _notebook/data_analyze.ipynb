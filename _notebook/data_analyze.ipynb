{
 "cells": [
  {
   "cell_type": "code",
   "execution_count": 29,
   "metadata": {},
   "outputs": [],
   "source": [
    "import pandas as pd\n",
    "pd.set_option('display.max_rows', None)\n",
    "pd.set_option('display.max_columns', None)\n",
    "dataset = pd.read_csv('./sechouse.csv')"
   ]
  },
  {
   "cell_type": "code",
   "execution_count": null,
   "metadata": {},
   "outputs": [],
   "source": []
  },
  {
   "cell_type": "code",
   "execution_count": 6,
   "metadata": {},
   "outputs": [
    {
     "data": {
      "text/plain": [
       "38019        北环\n",
       "38020        北环\n",
       "38021        北环\n",
       "38022        北环\n",
       "38023        北环\n",
       "          ...  \n",
       "76947    中央公园东区\n",
       "76948    中央公园东区\n",
       "76949    中央公园东区\n",
       "76950    中央公园东区\n",
       "76951    中央公园东区\n",
       "Name: chinese_area, Length: 38933, dtype: object"
      ]
     },
     "execution_count": 6,
     "metadata": {},
     "output_type": "execute_result"
    }
   ],
   "source": [
    "dataset[dataset['position'].isin(['北大资源'])]['chinese_area']"
   ]
  },
  {
   "cell_type": "code",
   "execution_count": 31,
   "metadata": {},
   "outputs": [
    {
     "data": {
      "text/plain": [
       "position\n",
       "万瑞MARRIER金开都会HOUSE    15215.000000\n",
       "万科城                   15148.900000\n",
       "万科城三期                 16386.402597\n",
       "万科御澜山                 22528.500000\n",
       "万科悦峰                  16356.425000\n",
       "万科悦峰三期                16005.885714\n",
       "万科星光森林A区              23649.227273\n",
       "万科星光森林B区              24690.777778\n",
       "世茂珺悦府                 22496.230769\n",
       "世茂茂悦府一二期              18698.333333\n",
       "世茂茂悦府三期               18447.490909\n",
       "世茂茂悦府洋房               19011.666667\n",
       "东原星樾                  17488.012658\n",
       "两江名苑伯克林               18962.900000\n",
       "中振湖霞郡                 18358.857143\n",
       "兰庭序资源                 30359.200000\n",
       "力帆红星国际广场紫郡            16692.363636\n",
       "北大资源博雅一期              21915.151515\n",
       "北大资源博雅东               20982.594340\n",
       "北大资源博雅二期              22561.575758\n",
       "华宇上院                  17541.533333\n",
       "协信星都会                 16379.975904\n",
       "协信春山台                 19885.333333\n",
       "博雅东未名苑                19245.800000\n",
       "和记黄埔玥湖园1号             19492.500000\n",
       "康桥融府                  20427.083333\n",
       "康田蔚蓝海                 16896.500000\n",
       "康田蔚蓝海A区               17600.500000\n",
       "康田蔚蓝海B区               18013.400000\n",
       "康田蔚蓝海C区               17778.750000\n",
       "恒大世纪城一二期              18632.538462\n",
       "恒大世纪城三期               18906.191176\n",
       "恒大世纪城四期北苑             16252.868852\n",
       "恒大山水城                 15705.041916\n",
       "恒大御府                  23376.500000\n",
       "恒大御景半岛                17560.626087\n",
       "恒大翡翠华庭                15933.814815\n",
       "恒大翡翠华庭二期              16272.105263\n",
       "悦水岸                   27015.846154\n",
       "洋丰圣乔维斯                19084.312500\n",
       "玥湖园                   17025.256410\n",
       "碧桂园中俊天玺               21256.636364\n",
       "约克郡                   20025.173913\n",
       "约克郡北区                 26060.324675\n",
       "约克郡汀兰                 24336.666667\n",
       "约克郡禧悦                 21902.200000\n",
       "融创凡尔赛领馆Ⅰ              17176.108434\n",
       "融创凡尔赛领馆三期             16974.644444\n",
       "融创凡尔赛领馆二期             17524.447368\n",
       "融创凡尔赛领馆四期             17649.250000\n",
       "融创凡尔赛香榭               20641.000000\n",
       "象屿两江公元                17711.150376\n",
       "金州苑依山郡                20439.566038\n",
       "金科时代中心                23009.380952\n",
       "金鹏金岭                  15337.133333\n",
       "阅林景悦                  22570.287879\n",
       "香港置地壹号半岛              32587.526316\n",
       "龙湖尘林间                 23931.758621\n",
       "龙湖舜山府一期               27620.260870\n",
       "龙湖舜山府三期四组团            24068.722222\n",
       "龙湖舜山府二期               27953.038462\n",
       "Name: unit_price, dtype: float64"
      ]
     },
     "execution_count": 31,
     "metadata": {},
     "output_type": "execute_result"
    }
   ],
   "source": [
    "mask = dataset['district'] == '渝北'\n",
    "df = dataset[mask]\n",
    "mask = df['area'].isin(['礼嘉', '照母山'])\n",
    "# df = df[mask]\n",
    "df[df['area']=='照母山'].groupby('position')['unit_price'].mean()"
   ]
  },
  {
   "cell_type": "code",
   "execution_count": null,
   "metadata": {},
   "outputs": [],
   "source": [
    "house=['北大资源博雅一期','','','','','','','','','','']\n",
    "print(df[df['position'].isin['北大资源博雅一期']].groupby('position')['unit_price'].mean())"
   ]
  }
 ],
 "metadata": {
  "kernelspec": {
   "display_name": "base",
   "language": "python",
   "name": "python3"
  },
  "language_info": {
   "codemirror_mode": {
    "name": "ipython",
    "version": 3
   },
   "file_extension": ".py",
   "mimetype": "text/x-python",
   "name": "python",
   "nbconvert_exporter": "python",
   "pygments_lexer": "ipython3",
   "version": "3.10.8"
  },
  "orig_nbformat": 4
 },
 "nbformat": 4,
 "nbformat_minor": 2
}
